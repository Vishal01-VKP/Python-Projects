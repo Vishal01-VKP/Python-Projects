{
  "nbformat": 4,
  "nbformat_minor": 0,
  "metadata": {
    "colab": {
      "provenance": [],
      "toc_visible": true,
      "authorship_tag": "ABX9TyPBm+NvmrN+f+8EbY3rbJnv",
      "include_colab_link": true
    },
    "kernelspec": {
      "name": "python3",
      "display_name": "Python 3"
    },
    "language_info": {
      "name": "python"
    }
  },
  "cells": [
    {
      "cell_type": "markdown",
      "metadata": {
        "id": "view-in-github",
        "colab_type": "text"
      },
      "source": [
        "<a href=\"https://colab.research.google.com/github/Vishal01-VKP/Python-Projects/blob/master/SchoolCodes.ipynb\" target=\"_parent\"><img src=\"https://colab.research.google.com/assets/colab-badge.svg\" alt=\"Open In Colab\"/></a>"
      ]
    },
    {
      "cell_type": "code",
      "source": [
        "for i in range(4):\n",
        "    for j in range(4):\n",
        "        print(\"#\",end=\"\")\n",
        "    print()"
      ],
      "metadata": {
        "colab": {
          "base_uri": "https://localhost:8080/"
        },
        "id": "Q4FCTzvhdZ6C",
        "outputId": "2230891f-05ff-42c3-ae53-227e9971129b"
      },
      "execution_count": null,
      "outputs": [
        {
          "output_type": "stream",
          "name": "stdout",
          "text": [
            "####\n",
            "####\n",
            "####\n",
            "####\n"
          ]
        }
      ]
    },
    {
      "cell_type": "code",
      "execution_count": null,
      "metadata": {
        "colab": {
          "base_uri": "https://localhost:8080/"
        },
        "id": "tjtwFs_NlR-K",
        "outputId": "d3cda16f-0f9a-4654-d3e2-41f843551518"
      },
      "outputs": [
        {
          "output_type": "stream",
          "name": "stdout",
          "text": [
            "12345\n",
            " 1234\n",
            "  123\n",
            "   12\n",
            "    1\n"
          ]
        }
      ],
      "source": [
        "n=1\n",
        "for i in range(5):\n",
        "    for j in range(5):\n",
        "        if i<=j:\n",
        "            print(n,end=\"\")\n",
        "            n+=1\n",
        "        else:\n",
        "            print(\" \",end=\"\")\n",
        "    n=1\n",
        "    print()"
      ]
    },
    {
      "cell_type": "code",
      "source": [
        "for i in range(1,3):\n",
        "    for j in range(1,6):\n",
        "        if 3<(i+j)<3+(2*i):\n",
        "            print(\"*\",end=\"\")\n",
        "        else:\n",
        "            print(\" \",end=\"\")\n",
        "    print()\n",
        "\n",
        "for i in range(1,4):\n",
        "    for j in range(1,6):\n",
        "        if (2*i)-1<(i+j)<7:\n",
        "            print(\"*\",end=\"\")\n",
        "        else:\n",
        "            print(\" \",end=\"\")\n",
        "    print()"
      ],
      "metadata": {
        "colab": {
          "base_uri": "https://localhost:8080/"
        },
        "id": "8VUrs8eCoTPZ",
        "outputId": "131c449b-ef4a-4024-d5af-c1e0e70aa0a1"
      },
      "execution_count": null,
      "outputs": [
        {
          "output_type": "stream",
          "name": "stdout",
          "text": [
            "  *  \n",
            " *** \n",
            "*****\n",
            " *** \n",
            "  *  \n"
          ]
        }
      ]
    },
    {
      "cell_type": "code",
      "source": [
        "for i in range(4):\n",
        "    for j in range(4,i,-1):\n",
        "        print(j,end=\"\")\n",
        "    else:\n",
        "        print(\" \",end=\"\")\n",
        "    print()"
      ],
      "metadata": {
        "colab": {
          "base_uri": "https://localhost:8080/"
        },
        "id": "jcZeQHYyqbDO",
        "outputId": "a557a5cd-e378-4dda-a6af-44e2b2572a1b"
      },
      "execution_count": null,
      "outputs": [
        {
          "output_type": "stream",
          "name": "stdout",
          "text": [
            "4321 \n",
            "432 \n",
            "43 \n",
            "4 \n"
          ]
        }
      ]
    },
    {
      "cell_type": "code",
      "source": [
        "for i in range(5,10,4):\n",
        "    for j in range(1,i,2):\n",
        "        print(i,j)"
      ],
      "metadata": {
        "colab": {
          "base_uri": "https://localhost:8080/"
        },
        "id": "9JVP6p4BrAsX",
        "outputId": "20022784-6bf5-41f3-dc46-cb518051034c"
      },
      "execution_count": null,
      "outputs": [
        {
          "output_type": "stream",
          "name": "stdout",
          "text": [
            "5 1\n",
            "5 3\n",
            "9 1\n",
            "9 3\n",
            "9 5\n",
            "9 7\n"
          ]
        }
      ]
    },
    {
      "cell_type": "code",
      "source": [
        "\n",
        "for i in range(5):\n",
        "    for j in range(i+1):\n",
        "        print(\"*\",end=\"\")\n",
        "    else:\n",
        "        print(\" \",end=\"\")\n",
        "    print()"
      ],
      "metadata": {
        "colab": {
          "base_uri": "https://localhost:8080/"
        },
        "id": "3frudJ5-rM2p",
        "outputId": "f37c1ceb-7044-4798-f8c7-89abe774e8ec"
      },
      "execution_count": null,
      "outputs": [
        {
          "output_type": "stream",
          "name": "stdout",
          "text": [
            "* \n",
            "** \n",
            "*** \n",
            "**** \n",
            "***** \n"
          ]
        }
      ]
    },
    {
      "cell_type": "code",
      "source": [
        "\n",
        "for i in range(5):\n",
        "    for j in range(5-i):\n",
        "        print(\"*\",end=\"\")\n",
        "    else:\n",
        "        print(\" \",end=\"\")\n",
        "    print()"
      ],
      "metadata": {
        "colab": {
          "base_uri": "https://localhost:8080/"
        },
        "id": "oW7NIMh3tRwe",
        "outputId": "bbdc34d3-ab55-4448-d357-dd2f6b6235d3"
      },
      "execution_count": null,
      "outputs": [
        {
          "output_type": "stream",
          "name": "stdout",
          "text": [
            "***** \n",
            "**** \n",
            "*** \n",
            "** \n",
            "* \n"
          ]
        }
      ]
    },
    {
      "cell_type": "code",
      "source": [
        "for i in range(1,6):\n",
        "    for j in range(1,6):        \n",
        "        if ((j-i) >= 0):\n",
        "            print(\"*\",end=\"\")\n",
        "        else:\n",
        "            print(\" \",end=\"\")\n",
        "    print()"
      ],
      "metadata": {
        "colab": {
          "base_uri": "https://localhost:8080/"
        },
        "id": "BO2fHF-fWoJj",
        "outputId": "e89c6149-5e1d-493e-8c4e-8e2ac02411a5"
      },
      "execution_count": null,
      "outputs": [
        {
          "output_type": "stream",
          "name": "stdout",
          "text": [
            "*****\n",
            " ****\n",
            "  ***\n",
            "   **\n",
            "    *\n"
          ]
        }
      ]
    },
    {
      "cell_type": "code",
      "source": [
        "for i in range(1,6):\n",
        "    for j in range(1,6):        \n",
        "        if ((i+j) > 5):\n",
        "            print(\"*\",end=\"\")\n",
        "        else:\n",
        "            print(\" \",end=\"\")\n",
        "    print()"
      ],
      "metadata": {
        "colab": {
          "base_uri": "https://localhost:8080/"
        },
        "id": "tLhmhaSlX6Y4",
        "outputId": "d824ed55-3745-4c15-c13d-18aa9b48186a"
      },
      "execution_count": null,
      "outputs": [
        {
          "output_type": "stream",
          "name": "stdout",
          "text": [
            "    *\n",
            "   **\n",
            "  ***\n",
            " ****\n",
            "*****\n"
          ]
        }
      ]
    },
    {
      "cell_type": "code",
      "source": [
        "for i in range(1,5):\n",
        "    for j in range(1,i+1):\n",
        "        print(i,end=\"\")\n",
        "    print()"
      ],
      "metadata": {
        "colab": {
          "base_uri": "https://localhost:8080/"
        },
        "id": "YgDqfycDafL2",
        "outputId": "154902a9-9158-4564-8dfb-f76680cc0aa4"
      },
      "execution_count": null,
      "outputs": [
        {
          "output_type": "stream",
          "name": "stdout",
          "text": [
            "1\n",
            "22\n",
            "333\n",
            "4444\n"
          ]
        }
      ]
    },
    {
      "cell_type": "code",
      "source": [
        "for i in range(1,5):\n",
        "    for j in range(1,i+1):\n",
        "        print(j,end=\"\")\n",
        "    print()"
      ],
      "metadata": {
        "colab": {
          "base_uri": "https://localhost:8080/"
        },
        "id": "O5NfHLGgbSZD",
        "outputId": "d3444bc0-0cd8-4744-eeeb-26a15f4f3bdf"
      },
      "execution_count": null,
      "outputs": [
        {
          "output_type": "stream",
          "name": "stdout",
          "text": [
            "1\n",
            "12\n",
            "123\n",
            "1234\n"
          ]
        }
      ]
    },
    {
      "cell_type": "code",
      "source": [
        "for i in range(1,5):\n",
        "    for j in range(1,i+1):\n",
        "        print(1,end=\"\")\n",
        "    print()"
      ],
      "metadata": {
        "colab": {
          "base_uri": "https://localhost:8080/"
        },
        "id": "YK-LqFTSbykb",
        "outputId": "37cedaa2-136a-46fd-9688-672794eaf0ec"
      },
      "execution_count": null,
      "outputs": [
        {
          "output_type": "stream",
          "name": "stdout",
          "text": [
            "1\n",
            "11\n",
            "111\n",
            "1111\n"
          ]
        }
      ]
    },
    {
      "cell_type": "code",
      "source": [],
      "metadata": {
        "id": "nq56YuGOyNE1"
      },
      "execution_count": null,
      "outputs": []
    },
    {
      "cell_type": "code",
      "source": [
        "for i in range(1,5):\n",
        "    for j in range(1,8):\n",
        "        if (4+2*i) > (i+j) > 4:\n",
        "            print(\"*\",end=\"\")\n",
        "        else:\n",
        "            print(\" \",end=\"\")\n",
        "    print()"
      ],
      "metadata": {
        "colab": {
          "base_uri": "https://localhost:8080/"
        },
        "id": "PoEZXY9pcO5V",
        "outputId": "ccf0c30d-c05a-4280-835a-d493bbddfd34"
      },
      "execution_count": null,
      "outputs": [
        {
          "output_type": "stream",
          "name": "stdout",
          "text": [
            "   *   \n",
            "  ***  \n",
            " ***** \n",
            "*******\n"
          ]
        }
      ]
    },
    {
      "cell_type": "code",
      "source": [
        "for i in range(4,0,-1):\n",
        "    for j in range(1,8):\n",
        "        if (4+2*i) > (i+j) > 4:\n",
        "            print(\"*\",end=\"\")\n",
        "        else:\n",
        "            print(\" \",end=\"\")\n",
        "    print()"
      ],
      "metadata": {
        "colab": {
          "base_uri": "https://localhost:8080/"
        },
        "id": "uxpXZ992c3Aq",
        "outputId": "a891d54e-f21b-4262-dbca-cc90c9cc13fe"
      },
      "execution_count": null,
      "outputs": [
        {
          "output_type": "stream",
          "name": "stdout",
          "text": [
            "*******\n",
            " ***** \n",
            "  ***  \n",
            "   *   \n"
          ]
        }
      ]
    }
  ]
}